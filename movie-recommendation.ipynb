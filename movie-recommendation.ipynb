{
 "cells": [
  {
   "cell_type": "code",
   "execution_count": 1,
   "id": "1ccbfe6b",
   "metadata": {
    "_cell_guid": "b1076dfc-b9ad-4769-8c92-a6c4dae69d19",
    "_uuid": "8f2839f25d086af736a60e9eeb907d3b93b6e0e5",
    "execution": {
     "iopub.execute_input": "2022-02-06T16:33:03.612904Z",
     "iopub.status.busy": "2022-02-06T16:33:03.611721Z",
     "iopub.status.idle": "2022-02-06T16:33:03.632646Z",
     "shell.execute_reply": "2022-02-06T16:33:03.633252Z",
     "shell.execute_reply.started": "2022-02-06T16:25:09.847666Z"
    },
    "papermill": {
     "duration": 0.050295,
     "end_time": "2022-02-06T16:33:03.633543",
     "exception": false,
     "start_time": "2022-02-06T16:33:03.583248",
     "status": "completed"
    },
    "tags": []
   },
   "outputs": [
    {
     "name": "stdout",
     "output_type": "stream",
     "text": [
      "/kaggle/input/netflix-tv-shows-and-movie-list/netflix_list.csv\n"
     ]
    }
   ],
   "source": [
    "# This Python 3 environment comes with many helpful analytics libraries installed\n",
    "# It is defined by the kaggle/python Docker image: https://github.com/kaggle/docker-python\n",
    "# For example, here's several helpful packages to load\n",
    "\n",
    "import numpy as np # linear algebra\n",
    "import pandas as pd # data processing, CSV file I/O (e.g. pd.read_csv)\n",
    "\n",
    "# Input data files are available in the read-only \"../input/\" directory\n",
    "# For example, running this (by clicking run or pressing Shift+Enter) will list all files under the input directory\n",
    "\n",
    "import os\n",
    "for dirname, _, filenames in os.walk('/kaggle/input'):\n",
    "    for filename in filenames:\n",
    "        print(os.path.join(dirname, filename))\n",
    "\n",
    "# You can write up to 20GB to the current directory (/kaggle/working/) that gets preserved as output when you create a version using \"Save & Run All\" \n",
    "# You can also write temporary files to /kaggle/temp/, but they won't be saved outside of the current session"
   ]
  },
  {
   "cell_type": "code",
   "execution_count": 2,
   "id": "5c6b9778",
   "metadata": {
    "execution": {
     "iopub.execute_input": "2022-02-06T16:33:03.681285Z",
     "iopub.status.busy": "2022-02-06T16:33:03.680660Z",
     "iopub.status.idle": "2022-02-06T16:33:04.814710Z",
     "shell.execute_reply": "2022-02-06T16:33:04.813920Z",
     "shell.execute_reply.started": "2022-02-06T16:25:09.864123Z"
    },
    "papermill": {
     "duration": 1.158744,
     "end_time": "2022-02-06T16:33:04.814862",
     "exception": false,
     "start_time": "2022-02-06T16:33:03.656118",
     "status": "completed"
    },
    "tags": []
   },
   "outputs": [],
   "source": [
    "import pandas as pd\n",
    "import numpy as np\n",
    "import difflib\n",
    "from sklearn.feature_extraction.text import TfidfVectorizer\n",
    "from sklearn.metrics.pairwise import cosine_similarity"
   ]
  },
  {
   "cell_type": "markdown",
   "id": "5426116c",
   "metadata": {
    "papermill": {
     "duration": 0.022965,
     "end_time": "2022-02-06T16:33:04.860918",
     "exception": false,
     "start_time": "2022-02-06T16:33:04.837953",
     "status": "completed"
    },
    "tags": []
   },
   "source": [
    "****data collection and preprocessing****"
   ]
  },
  {
   "cell_type": "code",
   "execution_count": 3,
   "id": "d082c515",
   "metadata": {
    "execution": {
     "iopub.execute_input": "2022-02-06T16:33:04.911369Z",
     "iopub.status.busy": "2022-02-06T16:33:04.910676Z",
     "iopub.status.idle": "2022-02-06T16:33:05.186516Z",
     "shell.execute_reply": "2022-02-06T16:33:05.185708Z",
     "shell.execute_reply.started": "2022-02-06T16:25:09.875501Z"
    },
    "jupyter": {
     "source_hidden": true
    },
    "papermill": {
     "duration": 0.302425,
     "end_time": "2022-02-06T16:33:05.186664",
     "exception": false,
     "start_time": "2022-02-06T16:33:04.884239",
     "status": "completed"
    },
    "tags": []
   },
   "outputs": [],
   "source": [
    "#loading the file\n",
    "movie_data=pd.read_csv('../input/netflix-tv-shows-and-movie-list/netflix_list.csv')\n"
   ]
  },
  {
   "cell_type": "code",
   "execution_count": 4,
   "id": "8bf119a4",
   "metadata": {
    "execution": {
     "iopub.execute_input": "2022-02-06T16:33:05.235047Z",
     "iopub.status.busy": "2022-02-06T16:33:05.234057Z",
     "iopub.status.idle": "2022-02-06T16:33:05.256105Z",
     "shell.execute_reply": "2022-02-06T16:33:05.255497Z",
     "shell.execute_reply.started": "2022-02-06T16:25:10.038430Z"
    },
    "papermill": {
     "duration": 0.047214,
     "end_time": "2022-02-06T16:33:05.256250",
     "exception": false,
     "start_time": "2022-02-06T16:33:05.209036",
     "status": "completed"
    },
    "tags": []
   },
   "outputs": [],
   "source": [
    "movie_data['index']= range(0,len(movie_data))\n",
    "#movie_data\n",
    "#movie_data.drop(['index_name'],axis=1,inplace=True)\n",
    "#m=range(1,3)\n",
    "movie_data.insert(0,'index_1','')\n",
    "movie_data['index_1']=movie_data['index']\n",
    "movie_data.drop(['index'],axis=1,inplace=True)\n",
    "movie_data.rename({'index_1':'index'},axis=1,inplace=True)\n",
    "\n"
   ]
  },
  {
   "cell_type": "code",
   "execution_count": 5,
   "id": "8799f863",
   "metadata": {
    "execution": {
     "iopub.execute_input": "2022-02-06T16:33:05.311980Z",
     "iopub.status.busy": "2022-02-06T16:33:05.306154Z",
     "iopub.status.idle": "2022-02-06T16:33:05.347574Z",
     "shell.execute_reply": "2022-02-06T16:33:05.348101Z",
     "shell.execute_reply.started": "2022-02-06T16:25:10.057503Z"
    },
    "papermill": {
     "duration": 0.069124,
     "end_time": "2022-02-06T16:33:05.348282",
     "exception": false,
     "start_time": "2022-02-06T16:33:05.279158",
     "status": "completed"
    },
    "tags": []
   },
   "outputs": [
    {
     "data": {
      "text/html": [
       "<div>\n",
       "<style scoped>\n",
       "    .dataframe tbody tr th:only-of-type {\n",
       "        vertical-align: middle;\n",
       "    }\n",
       "\n",
       "    .dataframe tbody tr th {\n",
       "        vertical-align: top;\n",
       "    }\n",
       "\n",
       "    .dataframe thead th {\n",
       "        text-align: right;\n",
       "    }\n",
       "</style>\n",
       "<table border=\"1\" class=\"dataframe\">\n",
       "  <thead>\n",
       "    <tr style=\"text-align: right;\">\n",
       "      <th></th>\n",
       "      <th>index</th>\n",
       "      <th>imdb_id</th>\n",
       "      <th>title</th>\n",
       "      <th>popular_rank</th>\n",
       "      <th>certificate</th>\n",
       "      <th>startYear</th>\n",
       "      <th>endYear</th>\n",
       "      <th>episodes</th>\n",
       "      <th>runtime</th>\n",
       "      <th>type</th>\n",
       "      <th>orign_country</th>\n",
       "      <th>language</th>\n",
       "      <th>plot</th>\n",
       "      <th>summary</th>\n",
       "      <th>rating</th>\n",
       "      <th>numVotes</th>\n",
       "      <th>genres</th>\n",
       "      <th>isAdult</th>\n",
       "      <th>cast</th>\n",
       "      <th>image_url</th>\n",
       "    </tr>\n",
       "  </thead>\n",
       "  <tbody>\n",
       "    <tr>\n",
       "      <th>0</th>\n",
       "      <td>0</td>\n",
       "      <td>tt4052886</td>\n",
       "      <td>Lucifer</td>\n",
       "      <td>1</td>\n",
       "      <td>15</td>\n",
       "      <td>2016.0</td>\n",
       "      <td>NaN</td>\n",
       "      <td>93.0</td>\n",
       "      <td>42</td>\n",
       "      <td>tvSeries</td>\n",
       "      <td>United States</td>\n",
       "      <td>English</td>\n",
       "      <td>Lucifer Morningstar has decided he's had enoug...</td>\n",
       "      <td>Lucifer Morningstar, bored from his sulking li...</td>\n",
       "      <td>8.1</td>\n",
       "      <td>250884.0</td>\n",
       "      <td>Crime,Drama,Fantasy</td>\n",
       "      <td>0</td>\n",
       "      <td>['Tom Ellis', 'Lauren German', 'Lesley-Ann Bra...</td>\n",
       "      <td>https://m.media-amazon.com/images/M/MV5BNzY1Yj...</td>\n",
       "    </tr>\n",
       "    <tr>\n",
       "      <th>1</th>\n",
       "      <td>1</td>\n",
       "      <td>tt0993840</td>\n",
       "      <td>Army of the Dead</td>\n",
       "      <td>2</td>\n",
       "      <td>18</td>\n",
       "      <td>2021.0</td>\n",
       "      <td>NaN</td>\n",
       "      <td>NaN</td>\n",
       "      <td>148</td>\n",
       "      <td>movie</td>\n",
       "      <td>United States</td>\n",
       "      <td>English</td>\n",
       "      <td>Following a zombie outbreak in Las Vegas, a gr...</td>\n",
       "      <td>With the abandoned, walled city of Las Vegas o...</td>\n",
       "      <td>5.8</td>\n",
       "      <td>110780.0</td>\n",
       "      <td>Action,Crime,Horror</td>\n",
       "      <td>0</td>\n",
       "      <td>['Dave Bautista', 'Ella Purnell', 'Ana de la R...</td>\n",
       "      <td>https://m.media-amazon.com/images/M/MV5BNGY0Nz...</td>\n",
       "    </tr>\n",
       "    <tr>\n",
       "      <th>2</th>\n",
       "      <td>2</td>\n",
       "      <td>tt7255502</td>\n",
       "      <td>The Kominsky Method</td>\n",
       "      <td>3</td>\n",
       "      <td>18</td>\n",
       "      <td>2018.0</td>\n",
       "      <td>2021.0</td>\n",
       "      <td>22.0</td>\n",
       "      <td>30</td>\n",
       "      <td>tvSeries</td>\n",
       "      <td>United States</td>\n",
       "      <td>English</td>\n",
       "      <td>An aging actor, who long ago enjoyed a brush w...</td>\n",
       "      <td>Michael Douglas plays an actor who made it big...</td>\n",
       "      <td>8.2</td>\n",
       "      <td>28795.0</td>\n",
       "      <td>Comedy,Drama</td>\n",
       "      <td>0</td>\n",
       "      <td>['Michael Douglas', 'Sarah Baker', 'Graham Rog...</td>\n",
       "      <td>https://m.media-amazon.com/images/M/MV5BMzA0YT...</td>\n",
       "    </tr>\n",
       "    <tr>\n",
       "      <th>3</th>\n",
       "      <td>3</td>\n",
       "      <td>tt0108778</td>\n",
       "      <td>Friends</td>\n",
       "      <td>4</td>\n",
       "      <td>13+</td>\n",
       "      <td>1994.0</td>\n",
       "      <td>2004.0</td>\n",
       "      <td>235.0</td>\n",
       "      <td>22</td>\n",
       "      <td>tvSeries</td>\n",
       "      <td>United States</td>\n",
       "      <td>English</td>\n",
       "      <td>Follows the personal and professional lives of...</td>\n",
       "      <td>Ross Geller, Rachel Green, Monica Geller, Joey...</td>\n",
       "      <td>8.9</td>\n",
       "      <td>861843.0</td>\n",
       "      <td>Comedy,Romance</td>\n",
       "      <td>0</td>\n",
       "      <td>['Jennifer Aniston', 'Courteney Cox', 'Lisa Ku...</td>\n",
       "      <td>https://m.media-amazon.com/images/M/MV5BNDVkYj...</td>\n",
       "    </tr>\n",
       "    <tr>\n",
       "      <th>4</th>\n",
       "      <td>4</td>\n",
       "      <td>tt9251798</td>\n",
       "      <td>Ragnarok</td>\n",
       "      <td>5</td>\n",
       "      <td>18</td>\n",
       "      <td>2020.0</td>\n",
       "      <td>NaN</td>\n",
       "      <td>12.0</td>\n",
       "      <td>45</td>\n",
       "      <td>tvSeries</td>\n",
       "      <td>Norway</td>\n",
       "      <td>Norwegian</td>\n",
       "      <td>A small Norwegian town experiencing warm winte...</td>\n",
       "      <td>In the small fictional town of Edda coming of ...</td>\n",
       "      <td>7.5</td>\n",
       "      <td>26606.0</td>\n",
       "      <td>Action,Drama,Fantasy</td>\n",
       "      <td>0</td>\n",
       "      <td>['David Stakston', 'Jonas Strand Gravli', 'Her...</td>\n",
       "      <td>https://m.media-amazon.com/images/M/MV5BODM3NT...</td>\n",
       "    </tr>\n",
       "    <tr>\n",
       "      <th>...</th>\n",
       "      <td>...</td>\n",
       "      <td>...</td>\n",
       "      <td>...</td>\n",
       "      <td>...</td>\n",
       "      <td>...</td>\n",
       "      <td>...</td>\n",
       "      <td>...</td>\n",
       "      <td>...</td>\n",
       "      <td>...</td>\n",
       "      <td>...</td>\n",
       "      <td>...</td>\n",
       "      <td>...</td>\n",
       "      <td>...</td>\n",
       "      <td>...</td>\n",
       "      <td>...</td>\n",
       "      <td>...</td>\n",
       "      <td>...</td>\n",
       "      <td>...</td>\n",
       "      <td>...</td>\n",
       "      <td>...</td>\n",
       "    </tr>\n",
       "    <tr>\n",
       "      <th>7003</th>\n",
       "      <td>7003</td>\n",
       "      <td>tt9777386</td>\n",
       "      <td>Merry Happy Whatever</td>\n",
       "      <td>16,543</td>\n",
       "      <td>13</td>\n",
       "      <td>2019.0</td>\n",
       "      <td>NaN</td>\n",
       "      <td>NaN</td>\n",
       "      <td>28</td>\n",
       "      <td>tvEpisode</td>\n",
       "      <td>United States</td>\n",
       "      <td>English</td>\n",
       "      <td>When his daughter arrives home for the holiday...</td>\n",
       "      <td>When his daughter arrives home for the holiday...</td>\n",
       "      <td>6.1</td>\n",
       "      <td>221.0</td>\n",
       "      <td>Comedy</td>\n",
       "      <td>0</td>\n",
       "      <td>['Dennis Quaid', 'Bridgit Mendler', 'Brent Mor...</td>\n",
       "      <td>https://m.media-amazon.com/images/M/MV5BOTc0ND...</td>\n",
       "    </tr>\n",
       "    <tr>\n",
       "      <th>7004</th>\n",
       "      <td>7004</td>\n",
       "      <td>tt9790434</td>\n",
       "      <td>The Morning Show</td>\n",
       "      <td>16,569</td>\n",
       "      <td>NaN</td>\n",
       "      <td>2019.0</td>\n",
       "      <td>NaN</td>\n",
       "      <td>NaN</td>\n",
       "      <td>30</td>\n",
       "      <td>tvEpisode</td>\n",
       "      <td>-</td>\n",
       "      <td>-</td>\n",
       "      <td>NaN</td>\n",
       "      <td>-</td>\n",
       "      <td>NaN</td>\n",
       "      <td>NaN</td>\n",
       "      <td>\\N</td>\n",
       "      <td>0</td>\n",
       "      <td>['Bounty Hunters Brothers', 'Bruce Lourie', 'C...</td>\n",
       "      <td>https://m.media-amazon.com/images/G/01/imdb/im...</td>\n",
       "    </tr>\n",
       "    <tr>\n",
       "      <th>7005</th>\n",
       "      <td>7005</td>\n",
       "      <td>tt9817600</td>\n",
       "      <td>Losers</td>\n",
       "      <td>16,599</td>\n",
       "      <td>16</td>\n",
       "      <td>2019.0</td>\n",
       "      <td>NaN</td>\n",
       "      <td>NaN</td>\n",
       "      <td>\\N</td>\n",
       "      <td>tvEpisode</td>\n",
       "      <td>-</td>\n",
       "      <td>-</td>\n",
       "      <td>The life of Michael Bentt, a champion boxer fo...</td>\n",
       "      <td>The life of Michael Bentt, a champion boxer fo...</td>\n",
       "      <td>8.0</td>\n",
       "      <td>221.0</td>\n",
       "      <td>Documentary,Sport</td>\n",
       "      <td>0</td>\n",
       "      <td>['Michael Bentt', 'Harold Perrineau', 'Mickey ...</td>\n",
       "      <td>https://m.media-amazon.com/images/M/MV5BOTY3Zj...</td>\n",
       "    </tr>\n",
       "    <tr>\n",
       "      <th>7006</th>\n",
       "      <td>7006</td>\n",
       "      <td>tt9842922</td>\n",
       "      <td>Firefly Lane</td>\n",
       "      <td>16,627</td>\n",
       "      <td>18</td>\n",
       "      <td>2021.0</td>\n",
       "      <td>NaN</td>\n",
       "      <td>NaN</td>\n",
       "      <td>51</td>\n",
       "      <td>tvEpisode</td>\n",
       "      <td>United States</td>\n",
       "      <td>English</td>\n",
       "      <td>Kate experiences the force of nature that is T...</td>\n",
       "      <td>Kate experiences the force of nature that is T...</td>\n",
       "      <td>7.3</td>\n",
       "      <td>380.0</td>\n",
       "      <td>Drama,Romance</td>\n",
       "      <td>0</td>\n",
       "      <td>['Katherine Heigl', 'Sarah Chalke', 'Ben Lawso...</td>\n",
       "      <td>https://m.media-amazon.com/images/M/MV5BODM3OW...</td>\n",
       "    </tr>\n",
       "    <tr>\n",
       "      <th>7007</th>\n",
       "      <td>7007</td>\n",
       "      <td>tt9865968</td>\n",
       "      <td>Medical Police</td>\n",
       "      <td>16,648</td>\n",
       "      <td>NaN</td>\n",
       "      <td>2020.0</td>\n",
       "      <td>NaN</td>\n",
       "      <td>NaN</td>\n",
       "      <td>25</td>\n",
       "      <td>tvEpisode</td>\n",
       "      <td>United States</td>\n",
       "      <td>English</td>\n",
       "      <td>NaN</td>\n",
       "      <td>-</td>\n",
       "      <td>6.6</td>\n",
       "      <td>133.0</td>\n",
       "      <td>Comedy</td>\n",
       "      <td>0</td>\n",
       "      <td>['Erinn Hayes', 'Rob Huebel', 'Edwin Colón', '...</td>\n",
       "      <td>https://m.media-amazon.com/images/M/MV5BZTU5NT...</td>\n",
       "    </tr>\n",
       "  </tbody>\n",
       "</table>\n",
       "<p>7008 rows × 20 columns</p>\n",
       "</div>"
      ],
      "text/plain": [
       "      index    imdb_id                  title popular_rank certificate  \\\n",
       "0         0  tt4052886                Lucifer            1          15   \n",
       "1         1  tt0993840       Army of the Dead            2          18   \n",
       "2         2  tt7255502    The Kominsky Method            3          18   \n",
       "3         3  tt0108778                Friends            4         13+   \n",
       "4         4  tt9251798               Ragnarok            5          18   \n",
       "...     ...        ...                    ...          ...         ...   \n",
       "7003   7003  tt9777386   Merry Happy Whatever       16,543          13   \n",
       "7004   7004  tt9790434       The Morning Show       16,569         NaN   \n",
       "7005   7005  tt9817600                 Losers       16,599          16   \n",
       "7006   7006  tt9842922           Firefly Lane       16,627          18   \n",
       "7007   7007  tt9865968         Medical Police       16,648         NaN   \n",
       "\n",
       "      startYear  endYear  episodes runtime       type  orign_country  \\\n",
       "0        2016.0      NaN      93.0      42   tvSeries  United States   \n",
       "1        2021.0      NaN       NaN     148      movie  United States   \n",
       "2        2018.0   2021.0      22.0      30   tvSeries  United States   \n",
       "3        1994.0   2004.0     235.0      22   tvSeries  United States   \n",
       "4        2020.0      NaN      12.0      45   tvSeries         Norway   \n",
       "...         ...      ...       ...     ...        ...            ...   \n",
       "7003     2019.0      NaN       NaN      28  tvEpisode  United States   \n",
       "7004     2019.0      NaN       NaN      30  tvEpisode              -   \n",
       "7005     2019.0      NaN       NaN      \\N  tvEpisode              -   \n",
       "7006     2021.0      NaN       NaN      51  tvEpisode  United States   \n",
       "7007     2020.0      NaN       NaN      25  tvEpisode  United States   \n",
       "\n",
       "       language                                               plot  \\\n",
       "0       English  Lucifer Morningstar has decided he's had enoug...   \n",
       "1       English  Following a zombie outbreak in Las Vegas, a gr...   \n",
       "2       English  An aging actor, who long ago enjoyed a brush w...   \n",
       "3       English  Follows the personal and professional lives of...   \n",
       "4     Norwegian  A small Norwegian town experiencing warm winte...   \n",
       "...         ...                                                ...   \n",
       "7003    English  When his daughter arrives home for the holiday...   \n",
       "7004          -                                                NaN   \n",
       "7005          -  The life of Michael Bentt, a champion boxer fo...   \n",
       "7006    English  Kate experiences the force of nature that is T...   \n",
       "7007    English                                                NaN   \n",
       "\n",
       "                                                summary  rating  numVotes  \\\n",
       "0     Lucifer Morningstar, bored from his sulking li...     8.1  250884.0   \n",
       "1     With the abandoned, walled city of Las Vegas o...     5.8  110780.0   \n",
       "2     Michael Douglas plays an actor who made it big...     8.2   28795.0   \n",
       "3     Ross Geller, Rachel Green, Monica Geller, Joey...     8.9  861843.0   \n",
       "4     In the small fictional town of Edda coming of ...     7.5   26606.0   \n",
       "...                                                 ...     ...       ...   \n",
       "7003  When his daughter arrives home for the holiday...     6.1     221.0   \n",
       "7004                                                  -     NaN       NaN   \n",
       "7005  The life of Michael Bentt, a champion boxer fo...     8.0     221.0   \n",
       "7006  Kate experiences the force of nature that is T...     7.3     380.0   \n",
       "7007                                                  -     6.6     133.0   \n",
       "\n",
       "                    genres  isAdult  \\\n",
       "0      Crime,Drama,Fantasy        0   \n",
       "1      Action,Crime,Horror        0   \n",
       "2             Comedy,Drama        0   \n",
       "3           Comedy,Romance        0   \n",
       "4     Action,Drama,Fantasy        0   \n",
       "...                    ...      ...   \n",
       "7003                Comedy        0   \n",
       "7004                    \\N        0   \n",
       "7005     Documentary,Sport        0   \n",
       "7006         Drama,Romance        0   \n",
       "7007                Comedy        0   \n",
       "\n",
       "                                                   cast  \\\n",
       "0     ['Tom Ellis', 'Lauren German', 'Lesley-Ann Bra...   \n",
       "1     ['Dave Bautista', 'Ella Purnell', 'Ana de la R...   \n",
       "2     ['Michael Douglas', 'Sarah Baker', 'Graham Rog...   \n",
       "3     ['Jennifer Aniston', 'Courteney Cox', 'Lisa Ku...   \n",
       "4     ['David Stakston', 'Jonas Strand Gravli', 'Her...   \n",
       "...                                                 ...   \n",
       "7003  ['Dennis Quaid', 'Bridgit Mendler', 'Brent Mor...   \n",
       "7004  ['Bounty Hunters Brothers', 'Bruce Lourie', 'C...   \n",
       "7005  ['Michael Bentt', 'Harold Perrineau', 'Mickey ...   \n",
       "7006  ['Katherine Heigl', 'Sarah Chalke', 'Ben Lawso...   \n",
       "7007  ['Erinn Hayes', 'Rob Huebel', 'Edwin Colón', '...   \n",
       "\n",
       "                                              image_url  \n",
       "0     https://m.media-amazon.com/images/M/MV5BNzY1Yj...  \n",
       "1     https://m.media-amazon.com/images/M/MV5BNGY0Nz...  \n",
       "2     https://m.media-amazon.com/images/M/MV5BMzA0YT...  \n",
       "3     https://m.media-amazon.com/images/M/MV5BNDVkYj...  \n",
       "4     https://m.media-amazon.com/images/M/MV5BODM3NT...  \n",
       "...                                                 ...  \n",
       "7003  https://m.media-amazon.com/images/M/MV5BOTc0ND...  \n",
       "7004  https://m.media-amazon.com/images/G/01/imdb/im...  \n",
       "7005  https://m.media-amazon.com/images/M/MV5BOTY3Zj...  \n",
       "7006  https://m.media-amazon.com/images/M/MV5BODM3OW...  \n",
       "7007  https://m.media-amazon.com/images/M/MV5BZTU5NT...  \n",
       "\n",
       "[7008 rows x 20 columns]"
      ]
     },
     "execution_count": 5,
     "metadata": {},
     "output_type": "execute_result"
    }
   ],
   "source": [
    "movie_data\n"
   ]
  },
  {
   "cell_type": "markdown",
   "id": "92baf39d",
   "metadata": {
    "papermill": {
     "duration": 0.023199,
     "end_time": "2022-02-06T16:33:05.395373",
     "exception": false,
     "start_time": "2022-02-06T16:33:05.372174",
     "status": "completed"
    },
    "tags": []
   },
   "source": []
  },
  {
   "cell_type": "code",
   "execution_count": 6,
   "id": "7cab988e",
   "metadata": {
    "execution": {
     "iopub.execute_input": "2022-02-06T16:33:05.446462Z",
     "iopub.status.busy": "2022-02-06T16:33:05.445733Z",
     "iopub.status.idle": "2022-02-06T16:33:05.448315Z",
     "shell.execute_reply": "2022-02-06T16:33:05.448799Z",
     "shell.execute_reply.started": "2022-02-06T16:25:10.098754Z"
    },
    "papermill": {
     "duration": 0.030767,
     "end_time": "2022-02-06T16:33:05.448981",
     "exception": false,
     "start_time": "2022-02-06T16:33:05.418214",
     "status": "completed"
    },
    "tags": []
   },
   "outputs": [
    {
     "data": {
      "text/plain": [
       "(7008, 20)"
      ]
     },
     "execution_count": 6,
     "metadata": {},
     "output_type": "execute_result"
    }
   ],
   "source": [
    "#number of rows and columns\n",
    "movie_data.shape"
   ]
  },
  {
   "cell_type": "code",
   "execution_count": 7,
   "id": "2e6c8341",
   "metadata": {
    "execution": {
     "iopub.execute_input": "2022-02-06T16:33:05.499926Z",
     "iopub.status.busy": "2022-02-06T16:33:05.498922Z",
     "iopub.status.idle": "2022-02-06T16:33:05.504113Z",
     "shell.execute_reply": "2022-02-06T16:33:05.504599Z",
     "shell.execute_reply.started": "2022-02-06T16:25:10.105677Z"
    },
    "papermill": {
     "duration": 0.032061,
     "end_time": "2022-02-06T16:33:05.504762",
     "exception": false,
     "start_time": "2022-02-06T16:33:05.472701",
     "status": "completed"
    },
    "tags": []
   },
   "outputs": [
    {
     "name": "stdout",
     "output_type": "stream",
     "text": [
      "['genres', 'cast', 'title', 'type', 'plot']\n"
     ]
    }
   ],
   "source": [
    "#Relevent features for analysis\n",
    "rel_feature=['genres','cast','title','type','plot']\n",
    "print(rel_feature)"
   ]
  },
  {
   "cell_type": "code",
   "execution_count": 8,
   "id": "77b31d95",
   "metadata": {
    "execution": {
     "iopub.execute_input": "2022-02-06T16:33:05.567409Z",
     "iopub.status.busy": "2022-02-06T16:33:05.566662Z",
     "iopub.status.idle": "2022-02-06T16:33:05.574182Z",
     "shell.execute_reply": "2022-02-06T16:33:05.573619Z",
     "shell.execute_reply.started": "2022-02-06T16:25:10.118513Z"
    },
    "papermill": {
     "duration": 0.045837,
     "end_time": "2022-02-06T16:33:05.574345",
     "exception": false,
     "start_time": "2022-02-06T16:33:05.528508",
     "status": "completed"
    },
    "tags": []
   },
   "outputs": [
    {
     "data": {
      "text/plain": [
       "index               0\n",
       "imdb_id             0\n",
       "title               0\n",
       "popular_rank        0\n",
       "certificate      4599\n",
       "startYear         515\n",
       "endYear          5882\n",
       "episodes         4704\n",
       "runtime             2\n",
       "type                2\n",
       "orign_country       0\n",
       "language            0\n",
       "plot              399\n",
       "summary             0\n",
       "rating           1008\n",
       "numVotes         1008\n",
       "genres              2\n",
       "isAdult             0\n",
       "cast                0\n",
       "image_url           0\n",
       "dtype: int64"
      ]
     },
     "execution_count": 8,
     "metadata": {},
     "output_type": "execute_result"
    }
   ],
   "source": [
    "#checking the null values\n",
    "movie_data.isnull().sum()"
   ]
  },
  {
   "cell_type": "code",
   "execution_count": 9,
   "id": "bcccea80",
   "metadata": {
    "execution": {
     "iopub.execute_input": "2022-02-06T16:33:05.638505Z",
     "iopub.status.busy": "2022-02-06T16:33:05.637417Z",
     "iopub.status.idle": "2022-02-06T16:33:05.640401Z",
     "shell.execute_reply": "2022-02-06T16:33:05.639735Z",
     "shell.execute_reply.started": "2022-02-06T16:25:10.146500Z"
    },
    "papermill": {
     "duration": 0.041777,
     "end_time": "2022-02-06T16:33:05.640549",
     "exception": false,
     "start_time": "2022-02-06T16:33:05.598772",
     "status": "completed"
    },
    "tags": []
   },
   "outputs": [],
   "source": [
    "#filling the null with '' for the selected features\n",
    "for feature in rel_feature:\n",
    "    movie_data[feature]=movie_data[feature].fillna('')\n",
    "    "
   ]
  },
  {
   "cell_type": "code",
   "execution_count": 10,
   "id": "91e1cb52",
   "metadata": {
    "execution": {
     "iopub.execute_input": "2022-02-06T16:33:05.692521Z",
     "iopub.status.busy": "2022-02-06T16:33:05.691835Z",
     "iopub.status.idle": "2022-02-06T16:33:05.710993Z",
     "shell.execute_reply": "2022-02-06T16:33:05.710431Z",
     "shell.execute_reply.started": "2022-02-06T16:25:10.163747Z"
    },
    "papermill": {
     "duration": 0.046427,
     "end_time": "2022-02-06T16:33:05.711135",
     "exception": false,
     "start_time": "2022-02-06T16:33:05.664708",
     "status": "completed"
    },
    "tags": []
   },
   "outputs": [
    {
     "data": {
      "text/plain": [
       "index               0\n",
       "imdb_id             0\n",
       "title               0\n",
       "popular_rank        0\n",
       "certificate      4599\n",
       "startYear         515\n",
       "endYear          5882\n",
       "episodes         4704\n",
       "runtime             2\n",
       "type                0\n",
       "orign_country       0\n",
       "language            0\n",
       "plot                0\n",
       "summary             0\n",
       "rating           1008\n",
       "numVotes         1008\n",
       "genres              0\n",
       "isAdult             0\n",
       "cast                0\n",
       "image_url           0\n",
       "dtype: int64"
      ]
     },
     "execution_count": 10,
     "metadata": {},
     "output_type": "execute_result"
    }
   ],
   "source": [
    "#confirm the null valuew for selected feautures are replaced\n",
    "movie_data.isnull().sum()\n",
    "\n"
   ]
  },
  {
   "cell_type": "code",
   "execution_count": 11,
   "id": "4e626c77",
   "metadata": {
    "execution": {
     "iopub.execute_input": "2022-02-06T16:33:05.763689Z",
     "iopub.status.busy": "2022-02-06T16:33:05.763068Z",
     "iopub.status.idle": "2022-02-06T16:33:05.786066Z",
     "shell.execute_reply": "2022-02-06T16:33:05.786667Z",
     "shell.execute_reply.started": "2022-02-06T16:25:10.185384Z"
    },
    "papermill": {
     "duration": 0.050971,
     "end_time": "2022-02-06T16:33:05.786831",
     "exception": false,
     "start_time": "2022-02-06T16:33:05.735860",
     "status": "completed"
    },
    "tags": []
   },
   "outputs": [
    {
     "data": {
      "text/plain": [
       "0       Crime,Drama,Fantasy ['Tom Ellis', 'Lauren Germ...\n",
       "1       Action,Crime,Horror ['Dave Bautista', 'Ella Pu...\n",
       "2       Comedy,Drama ['Michael Douglas', 'Sarah Baker'...\n",
       "3       Comedy,Romance ['Jennifer Aniston', 'Courteney...\n",
       "4       Action,Drama,Fantasy ['David Stakston', 'Jonas...\n",
       "                              ...                        \n",
       "7003    Comedy ['Dennis Quaid', 'Bridgit Mendler', 'Br...\n",
       "7004    \\N ['Bounty Hunters Brothers', 'Bruce Lourie',...\n",
       "7005    Documentary,Sport ['Michael Bentt', 'Harold Pe...\n",
       "7006    Drama,Romance ['Katherine Heigl', 'Sarah Chalk...\n",
       "7007    Comedy ['Erinn Hayes', 'Rob Huebel', 'Edwin Co...\n",
       "Length: 7008, dtype: object"
      ]
     },
     "execution_count": 11,
     "metadata": {},
     "output_type": "execute_result"
    }
   ],
   "source": [
    "#combining all the relevant features\n",
    "comb_features=movie_data['genres']+' '+movie_data['cast']+' '+ movie_data['title']+ ' '+movie_data['type']+ ' ' +movie_data['plot']\n",
    "comb_features\n"
   ]
  },
  {
   "cell_type": "code",
   "execution_count": 12,
   "id": "ac714ce2",
   "metadata": {
    "execution": {
     "iopub.execute_input": "2022-02-06T16:33:05.840024Z",
     "iopub.status.busy": "2022-02-06T16:33:05.839352Z",
     "iopub.status.idle": "2022-02-06T16:33:05.865906Z",
     "shell.execute_reply": "2022-02-06T16:33:05.866604Z",
     "shell.execute_reply.started": "2022-02-06T16:25:10.221366Z"
    },
    "papermill": {
     "duration": 0.055203,
     "end_time": "2022-02-06T16:33:05.866821",
     "exception": false,
     "start_time": "2022-02-06T16:33:05.811618",
     "status": "completed"
    },
    "tags": []
   },
   "outputs": [
    {
     "name": "stderr",
     "output_type": "stream",
     "text": [
      "/opt/conda/lib/python3.7/site-packages/ipykernel_launcher.py:4: FutureWarning: The default value of regex will change from True to False in a future version. In addition, single character regular expressions will *not* be treated as literal strings when regex=True.\n",
      "  after removing the cwd from sys.path.\n"
     ]
    },
    {
     "data": {
      "text/plain": [
       "0       Crime,Drama,Fantasy ,'Tom Ellis', 'Lauren Germ...\n",
       "1       Action,Crime,Horror ,'Dave Bautista', 'Ella Pu...\n",
       "2       Comedy,Drama ,'Michael Douglas', 'Sarah Baker'...\n",
       "3       Comedy,Romance ,'Jennifer Aniston', 'Courteney...\n",
       "4       Action,Drama,Fantasy ,'David Stakston', 'Jonas...\n",
       "                              ...                        \n",
       "7003    Comedy ,'Dennis Quaid', 'Bridgit Mendler', 'Br...\n",
       "7004    \\N ,'Bounty Hunters Brothers', 'Bruce Lourie',...\n",
       "7005    Documentary,Sport ,'Michael Bentt', 'Harold Pe...\n",
       "7006    Drama,Romance ,'Katherine Heigl', 'Sarah Chalk...\n",
       "7007    Comedy ,'Erinn Hayes', 'Rob Huebel', 'Edwin Co...\n",
       "Length: 7008, dtype: object"
      ]
     },
     "execution_count": 12,
     "metadata": {},
     "output_type": "execute_result"
    }
   ],
   "source": [
    "#remove unwanted special characters\n",
    "ch = [\"]\",\"[\"]\n",
    "for i in ch:\n",
    "    comb_features=comb_features.str.replace(i, ',')\n",
    "    \n",
    "comb_features"
   ]
  },
  {
   "cell_type": "code",
   "execution_count": 13,
   "id": "248a1c16",
   "metadata": {
    "execution": {
     "iopub.execute_input": "2022-02-06T16:33:05.923650Z",
     "iopub.status.busy": "2022-02-06T16:33:05.922828Z",
     "iopub.status.idle": "2022-02-06T16:33:05.925295Z",
     "shell.execute_reply": "2022-02-06T16:33:05.925757Z",
     "shell.execute_reply.started": "2022-02-06T16:25:10.250567Z"
    },
    "papermill": {
     "duration": 0.033212,
     "end_time": "2022-02-06T16:33:05.925937",
     "exception": false,
     "start_time": "2022-02-06T16:33:05.892725",
     "status": "completed"
    },
    "tags": []
   },
   "outputs": [],
   "source": [
    "#text to vectors\n",
    "vector=TfidfVectorizer()\n"
   ]
  },
  {
   "cell_type": "code",
   "execution_count": 14,
   "id": "9dcec92b",
   "metadata": {
    "execution": {
     "iopub.execute_input": "2022-02-06T16:33:06.028023Z",
     "iopub.status.busy": "2022-02-06T16:33:05.991224Z",
     "iopub.status.idle": "2022-02-06T16:33:06.749812Z",
     "shell.execute_reply": "2022-02-06T16:33:06.749008Z",
     "shell.execute_reply.started": "2022-02-06T16:25:10.264730Z"
    },
    "papermill": {
     "duration": 0.798424,
     "end_time": "2022-02-06T16:33:06.750030",
     "exception": false,
     "start_time": "2022-02-06T16:33:05.951606",
     "status": "completed"
    },
    "tags": []
   },
   "outputs": [
    {
     "name": "stdout",
     "output_type": "stream",
     "text": [
      "  (0, 2705)\t0.14476643530574262\n",
      "  (0, 11318)\t0.08163108720863585\n",
      "  (0, 2687)\t0.1098295869736332\n",
      "  (0, 33326)\t0.10091656485283639\n",
      "  (0, 49924)\t0.14476643530574262\n",
      "  (0, 25549)\t0.11528189752206634\n",
      "  (0, 57271)\t0.1323216788349423\n",
      "  (0, 6379)\t0.11310298609767641\n",
      "  (0, 16485)\t0.09480135606384214\n",
      "  (0, 40951)\t0.0484677615861809\n",
      "  (0, 55610)\t0.07758925316833419\n",
      "  (0, 51925)\t0.09320833250141332\n",
      "  (0, 52294)\t0.11471188175936686\n",
      "  (0, 55743)\t0.06112170594334913\n",
      "  (0, 14013)\t0.10091656485283639\n",
      "  (0, 2575)\t0.02888399520812099\n",
      "  (0, 24280)\t0.1214391236212404\n",
      "  (0, 26269)\t0.06717766143879551\n",
      "  (0, 49876)\t0.13960139470096744\n",
      "  (0, 16329)\t0.15721119177654286\n",
      "  (0, 55208)\t0.048542415784081985\n",
      "  (0, 5854)\t0.08592861663538821\n",
      "  (0, 40596)\t0.05868362190730797\n",
      "  (0, 17488)\t0.12407124070295067\n",
      "  (0, 23159)\t0.106343712133737\n",
      "  :\t:\n",
      "  (7007, 24137)\t0.15892727108699303\n",
      "  (7007, 4612)\t0.20574214428050955\n",
      "  (7007, 36978)\t0.15411534611784133\n",
      "  (7007, 22376)\t0.11887188185459802\n",
      "  (7007, 32146)\t0.131069420635492\n",
      "  (7007, 25488)\t0.18269621879816023\n",
      "  (7007, 41636)\t0.17521371260822086\n",
      "  (7007, 60220)\t0.13173133393931466\n",
      "  (7007, 15612)\t0.1342069234317532\n",
      "  (7007, 36159)\t0.14940031352688674\n",
      "  (7007, 2966)\t0.1179204819105254\n",
      "  (7007, 17674)\t0.1320694170155361\n",
      "  (7007, 28183)\t0.11366768786784748\n",
      "  (7007, 22384)\t0.1391719197462942\n",
      "  (7007, 43587)\t0.11230738962182564\n",
      "  (7007, 46960)\t0.11629939998396238\n",
      "  (7007, 11838)\t0.18945570275928175\n",
      "  (7007, 19972)\t0.12480461533330403\n",
      "  (7007, 47791)\t0.10200999030436177\n",
      "  (7007, 36217)\t0.12662292089212823\n",
      "  (7007, 24017)\t0.1486988773064005\n",
      "  (7007, 11866)\t0.050818814433976886\n",
      "  (7007, 36713)\t0.14596840536051753\n",
      "  (7007, 28131)\t0.07575856368026497\n",
      "  (7007, 55858)\t0.09318829729361638\n"
     ]
    }
   ],
   "source": [
    "F_vector=vector.fit_transform(comb_features)\n",
    "print(F_vector)"
   ]
  },
  {
   "cell_type": "code",
   "execution_count": 15,
   "id": "c543b73d",
   "metadata": {
    "execution": {
     "iopub.execute_input": "2022-02-06T16:33:06.808401Z",
     "iopub.status.busy": "2022-02-06T16:33:06.807314Z",
     "iopub.status.idle": "2022-02-06T16:33:09.212608Z",
     "shell.execute_reply": "2022-02-06T16:33:09.211895Z",
     "shell.execute_reply.started": "2022-02-06T16:25:11.058372Z"
    },
    "papermill": {
     "duration": 2.435852,
     "end_time": "2022-02-06T16:33:09.212790",
     "exception": false,
     "start_time": "2022-02-06T16:33:06.776938",
     "status": "completed"
    },
    "tags": []
   },
   "outputs": [
    {
     "name": "stdout",
     "output_type": "stream",
     "text": [
      "[[1.         0.01583218 0.01379883 ... 0.01307554 0.00992016 0.01765683]\n",
      " [0.01583218 1.         0.00654593 ... 0.03371039 0.01049915 0.00857472]\n",
      " [0.01379883 0.00654593 1.         ... 0.01785242 0.03600459 0.01149756]\n",
      " ...\n",
      " [0.01307554 0.03371039 0.01785242 ... 1.         0.02515308 0.03221963]\n",
      " [0.00992016 0.01049915 0.03600459 ... 0.02515308 1.         0.02353448]\n",
      " [0.01765683 0.00857472 0.01149756 ... 0.03221963 0.02353448 1.        ]]\n"
     ]
    }
   ],
   "source": [
    "#finding similarity score between movies\n",
    "similarity=cosine_similarity(F_vector)\n",
    "print(similarity)"
   ]
  },
  {
   "cell_type": "code",
   "execution_count": 16,
   "id": "214c25da",
   "metadata": {
    "execution": {
     "iopub.execute_input": "2022-02-06T16:33:09.271402Z",
     "iopub.status.busy": "2022-02-06T16:33:09.270517Z",
     "iopub.status.idle": "2022-02-06T16:33:09.375559Z",
     "shell.execute_reply": "2022-02-06T16:33:09.374587Z",
     "shell.execute_reply.started": "2022-02-06T16:25:13.969947Z"
    },
    "papermill": {
     "duration": 0.13592,
     "end_time": "2022-02-06T16:33:09.375843",
     "exception": true,
     "start_time": "2022-02-06T16:33:09.239923",
     "status": "failed"
    },
    "tags": []
   },
   "outputs": [
    {
     "ename": "StdinNotImplementedError",
     "evalue": "raw_input was called, but this frontend does not support input requests.",
     "output_type": "error",
     "traceback": [
      "\u001b[0;31m---------------------------------------------------------------------------\u001b[0m",
      "\u001b[0;31mStdinNotImplementedError\u001b[0m                  Traceback (most recent call last)",
      "\u001b[0;32m/tmp/ipykernel_20/3400133544.py\u001b[0m in \u001b[0;36m<module>\u001b[0;34m\u001b[0m\n\u001b[0;32m----> 1\u001b[0;31m \u001b[0mmovie_name\u001b[0m\u001b[0;34m=\u001b[0m \u001b[0minput\u001b[0m\u001b[0;34m(\u001b[0m\u001b[0;34m\"enter the movie name: \"\u001b[0m\u001b[0;34m)\u001b[0m\u001b[0;34m\u001b[0m\u001b[0;34m\u001b[0m\u001b[0m\n\u001b[0m",
      "\u001b[0;32m/opt/conda/lib/python3.7/site-packages/ipykernel/kernelbase.py\u001b[0m in \u001b[0;36mraw_input\u001b[0;34m(self, prompt)\u001b[0m\n\u001b[1;32m   1003\u001b[0m         \u001b[0;32mif\u001b[0m \u001b[0;32mnot\u001b[0m \u001b[0mself\u001b[0m\u001b[0;34m.\u001b[0m\u001b[0m_allow_stdin\u001b[0m\u001b[0;34m:\u001b[0m\u001b[0;34m\u001b[0m\u001b[0;34m\u001b[0m\u001b[0m\n\u001b[1;32m   1004\u001b[0m             raise StdinNotImplementedError(\n\u001b[0;32m-> 1005\u001b[0;31m                 \u001b[0;34m\"raw_input was called, but this frontend does not support input requests.\"\u001b[0m\u001b[0;34m\u001b[0m\u001b[0;34m\u001b[0m\u001b[0m\n\u001b[0m\u001b[1;32m   1006\u001b[0m             )\n\u001b[1;32m   1007\u001b[0m         return self._input_request(\n",
      "\u001b[0;31mStdinNotImplementedError\u001b[0m: raw_input was called, but this frontend does not support input requests."
     ]
    }
   ],
   "source": [
    "movie_name= input(\"enter the movie name: \")"
   ]
  },
  {
   "cell_type": "code",
   "execution_count": null,
   "id": "289d85ca",
   "metadata": {
    "execution": {
     "iopub.execute_input": "2022-02-06T16:25:26.901684Z",
     "iopub.status.busy": "2022-02-06T16:25:26.901321Z",
     "iopub.status.idle": "2022-02-06T16:25:26.906460Z",
     "shell.execute_reply": "2022-02-06T16:25:26.905524Z",
     "shell.execute_reply.started": "2022-02-06T16:25:26.901650Z"
    },
    "papermill": {
     "duration": null,
     "end_time": null,
     "exception": null,
     "start_time": null,
     "status": "pending"
    },
    "tags": []
   },
   "outputs": [],
   "source": [
    "allmovie_list=movie_data['title'].tolist()\n"
   ]
  },
  {
   "cell_type": "code",
   "execution_count": null,
   "id": "bcbaa56c",
   "metadata": {
    "execution": {
     "iopub.execute_input": "2022-02-06T16:25:19.855117Z",
     "iopub.status.busy": "2022-02-06T16:25:19.854624Z",
     "iopub.status.idle": "2022-02-06T16:25:19.900282Z",
     "shell.execute_reply": "2022-02-06T16:25:19.899436Z",
     "shell.execute_reply.started": "2022-02-06T16:25:19.855074Z"
    },
    "papermill": {
     "duration": null,
     "end_time": null,
     "exception": null,
     "start_time": null,
     "status": "pending"
    },
    "tags": []
   },
   "outputs": [],
   "source": [
    "#find the close match of the movie that user entered\n",
    "closest_match=difflib.get_close_matches(movie_name,allmovie_list)\n",
    "print(closest_match)"
   ]
  },
  {
   "cell_type": "code",
   "execution_count": null,
   "id": "0a9f2c6a",
   "metadata": {
    "execution": {
     "iopub.execute_input": "2022-02-06T16:25:19.902658Z",
     "iopub.status.busy": "2022-02-06T16:25:19.902020Z",
     "iopub.status.idle": "2022-02-06T16:25:19.909852Z",
     "shell.execute_reply": "2022-02-06T16:25:19.908808Z",
     "shell.execute_reply.started": "2022-02-06T16:25:19.902614Z"
    },
    "papermill": {
     "duration": null,
     "end_time": null,
     "exception": null,
     "start_time": null,
     "status": "pending"
    },
    "tags": []
   },
   "outputs": [],
   "source": [
    "close_match=closest_match[0]\n",
    "close_match"
   ]
  },
  {
   "cell_type": "code",
   "execution_count": null,
   "id": "7c628cc9",
   "metadata": {
    "execution": {
     "iopub.execute_input": "2022-02-06T16:25:19.911986Z",
     "iopub.status.busy": "2022-02-06T16:25:19.911664Z",
     "iopub.status.idle": "2022-02-06T16:25:19.926037Z",
     "shell.execute_reply": "2022-02-06T16:25:19.924696Z",
     "shell.execute_reply.started": "2022-02-06T16:25:19.911947Z"
    },
    "papermill": {
     "duration": null,
     "end_time": null,
     "exception": null,
     "start_time": null,
     "status": "pending"
    },
    "tags": []
   },
   "outputs": [],
   "source": [
    "#finding the index of the movie\n",
    "index_movie=movie_data[movie_data.title==close_match]['index'].values[0]\n",
    "print(index_movie)"
   ]
  },
  {
   "cell_type": "code",
   "execution_count": null,
   "id": "f79c739b",
   "metadata": {
    "execution": {
     "iopub.execute_input": "2022-02-06T16:25:19.928319Z",
     "iopub.status.busy": "2022-02-06T16:25:19.927819Z",
     "iopub.status.idle": "2022-02-06T16:25:19.939059Z",
     "shell.execute_reply": "2022-02-06T16:25:19.938184Z",
     "shell.execute_reply.started": "2022-02-06T16:25:19.928276Z"
    },
    "papermill": {
     "duration": null,
     "end_time": null,
     "exception": null,
     "start_time": null,
     "status": "pending"
    },
    "tags": []
   },
   "outputs": [],
   "source": [
    "#list of similar movies\n",
    "similarity_score= list(enumerate(similarity[index_movie]))"
   ]
  },
  {
   "cell_type": "code",
   "execution_count": null,
   "id": "0b115b29",
   "metadata": {
    "execution": {
     "iopub.execute_input": "2022-02-06T16:25:19.941326Z",
     "iopub.status.busy": "2022-02-06T16:25:19.940290Z",
     "iopub.status.idle": "2022-02-06T16:25:19.966984Z",
     "shell.execute_reply": "2022-02-06T16:25:19.965817Z",
     "shell.execute_reply.started": "2022-02-06T16:25:19.941275Z"
    },
    "papermill": {
     "duration": null,
     "end_time": null,
     "exception": null,
     "start_time": null,
     "status": "pending"
    },
    "tags": []
   },
   "outputs": [],
   "source": [
    "print(similarity_score)"
   ]
  },
  {
   "cell_type": "code",
   "execution_count": null,
   "id": "116a8820",
   "metadata": {
    "execution": {
     "iopub.execute_input": "2022-02-06T16:25:19.969343Z",
     "iopub.status.busy": "2022-02-06T16:25:19.968709Z",
     "iopub.status.idle": "2022-02-06T16:25:20.039648Z",
     "shell.execute_reply": "2022-02-06T16:25:20.038817Z",
     "shell.execute_reply.started": "2022-02-06T16:25:19.969309Z"
    },
    "papermill": {
     "duration": null,
     "end_time": null,
     "exception": null,
     "start_time": null,
     "status": "pending"
    },
    "tags": []
   },
   "outputs": [],
   "source": [
    "#sorting the score to get the higher score\n",
    "high_score=sorted(similarity_score,key=lambda x:x[1],reverse=True)\n",
    "high_score"
   ]
  },
  {
   "cell_type": "code",
   "execution_count": null,
   "id": "de2f6a93",
   "metadata": {
    "execution": {
     "iopub.execute_input": "2022-02-06T16:25:20.041084Z",
     "iopub.status.busy": "2022-02-06T16:25:20.040858Z",
     "iopub.status.idle": "2022-02-06T16:25:20.048063Z",
     "shell.execute_reply": "2022-02-06T16:25:20.047248Z",
     "shell.execute_reply.started": "2022-02-06T16:25:20.041055Z"
    },
    "papermill": {
     "duration": null,
     "end_time": null,
     "exception": null,
     "start_time": null,
     "status": "pending"
    },
    "tags": []
   },
   "outputs": [],
   "source": [
    "movie=movie_data[movie_data['index']==1]['title'].values[0]\n",
    "movie"
   ]
  },
  {
   "cell_type": "code",
   "execution_count": null,
   "id": "8856bf11",
   "metadata": {
    "execution": {
     "iopub.execute_input": "2022-02-06T16:25:20.049637Z",
     "iopub.status.busy": "2022-02-06T16:25:20.049322Z",
     "iopub.status.idle": "2022-02-06T16:25:22.359037Z",
     "shell.execute_reply": "2022-02-06T16:25:22.358080Z",
     "shell.execute_reply.started": "2022-02-06T16:25:20.049605Z"
    },
    "papermill": {
     "duration": null,
     "end_time": null,
     "exception": null,
     "start_time": null,
     "status": "pending"
    },
    "tags": []
   },
   "outputs": [],
   "source": [
    "#suggesting the top 10 movies\n",
    "print(\"movies suggested: \\n\")\n",
    "\n",
    "i=1\n",
    "for k in high_score:\n",
    "    indexx= k[0]\n",
    "    movie_name_from_index=movie_data[movie_data.index==indexx]['title'].values[0]\n",
    "    if i<11:\n",
    "        print(i,'.',movie_name_from_index)\n",
    "        i+=1\n",
    "    "
   ]
  }
 ],
 "metadata": {
  "kernelspec": {
   "display_name": "Python 3",
   "language": "python",
   "name": "python3"
  },
  "language_info": {
   "codemirror_mode": {
    "name": "ipython",
    "version": 3
   },
   "file_extension": ".py",
   "mimetype": "text/x-python",
   "name": "python",
   "nbconvert_exporter": "python",
   "pygments_lexer": "ipython3",
   "version": "3.7.12"
  },
  "papermill": {
   "default_parameters": {},
   "duration": 16.595618,
   "end_time": "2022-02-06T16:33:10.113610",
   "environment_variables": {},
   "exception": true,
   "input_path": "__notebook__.ipynb",
   "output_path": "__notebook__.ipynb",
   "parameters": {},
   "start_time": "2022-02-06T16:32:53.517992",
   "version": "2.3.3"
  }
 },
 "nbformat": 4,
 "nbformat_minor": 5
}
